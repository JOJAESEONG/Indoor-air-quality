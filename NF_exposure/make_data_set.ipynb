{
 "cells": [
  {
   "cell_type": "code",
   "execution_count": 1,
   "metadata": {},
   "outputs": [],
   "source": [
    "\n",
    "import pandas as pd\n",
    "import numpy as np\n",
    "from pandas import DataFrame, Series"
   ]
  },
  {
   "cell_type": "code",
   "execution_count": 2,
   "metadata": {},
   "outputs": [],
   "source": [
    "data = pd.read_csv('NF_scenario.csv', encoding='cp949') #기존 CSV파일 불러오기"
   ]
  },
  {
   "cell_type": "code",
   "execution_count": 3,
   "metadata": {},
   "outputs": [
    {
     "name": "stderr",
     "output_type": "stream",
     "text": [
      "C:\\Users\\juhpa\\AppData\\Local\\Temp\\ipykernel_17236\\3024833023.py:8: SettingWithCopyWarning: \n",
      "A value is trying to be set on a copy of a slice from a DataFrame.\n",
      "Try using .loc[row_indexer,col_indexer] = value instead\n",
      "\n",
      "See the caveats in the documentation: https://pandas.pydata.org/pandas-docs/stable/user_guide/indexing.html#returning-a-view-versus-a-copy\n",
      "  bw_1['성별코드'] = bw_1['성별코드'].apply(lambda x: '여자' if x == 2 else '남자') # 남자 1, 여자 2로 표현된 것을 생활시간조사와 동일하게 남자/여자로 변경\n"
     ]
    }
   ],
   "source": [
    "#국민건강영양조사에서 체중 관련 정보 불러오기\n",
    "\n",
    "bw = pd.read_csv('intake.csv', index_col=0) # 국민건강영양조사 자료 불러오기 (최신자료 update완료)\n",
    "bw_1 = bw[['ID', 'sex.x', 'age.x', 'HE_wt']] # 개인ID, 성별, 연령, 체중 data 선별\n",
    "bw_1.columns = ['ID', '성별코드', '연령', 'weight'] # 컬럼명 부여\n",
    "\n",
    "\n",
    "bw_1['성별코드'] = bw_1['성별코드'].apply(lambda x: '여자' if x == 2 else '남자') # 남자 1, 여자 2로 표현된 것을 생활시간조사와 동일하게 남자/여자로 변경\n",
    "data['연령'] = data['연령'].apply(lambda x: 80 if x >= 80 else x) # 생활시간조사는 99세까지 세부연령으로 표현되지만 국민건강영양조사는 80세 이상은 모두 80으로 표기. 생활시간조사의 연령에서 80세 이상자료는 모두 80으로 바꿈"
   ]
  },
  {
   "cell_type": "code",
   "execution_count": 7,
   "metadata": {},
   "outputs": [
    {
     "name": "stdout",
     "output_type": "stream",
     "text": [
      "11.8\n"
     ]
    }
   ],
   "source": [
    "def get_bw(sex,age): # 성별와 나이에 따라 필러링 후, 몸무게의 여러값 중 하나의 값을 랜덤추출하는 함수 정의\n",
    "    bw_2 = bw_1[(bw_1.성별코드 == sex) & (bw_1.연령 == age)]\n",
    "    bw_3 = np.random.choice(bw_2.loc[:,'weight'], size=1)\n",
    "    return float(bw_3)\n",
    "\n",
    "print(get_bw('여자',2)) # 잘되는지 확인\n"
   ]
  },
  {
   "cell_type": "code",
   "execution_count": 5,
   "metadata": {},
   "outputs": [],
   "source": [
    "data['bodyweight'] = data.apply(lambda row: get_bw(row['성별코드'], row['연령']), axis=1) # 성별, 연령을 인자로 하여 위에 정의된 함수에 따라 체중에 대한 컬럼을 추가"
   ]
  },
  {
   "cell_type": "code",
   "execution_count": 6,
   "metadata": {},
   "outputs": [
    {
     "name": "stdout",
     "output_type": "stream",
     "text": [
      "<class 'pandas.core.frame.DataFrame'>\n",
      "RangeIndex: 20910 entries, 0 to 20909\n",
      "Data columns (total 21 columns):\n",
      " #   Column          Non-Null Count  Dtype  \n",
      "---  ------          --------------  -----  \n",
      " 0   Unnamed: 0      20910 non-null  int64  \n",
      " 1   회차              20910 non-null  object \n",
      " 2   행정구역시도코드        20910 non-null  object \n",
      " 3   읍면부동부코드         20910 non-null  object \n",
      " 4   가구일련번호          20910 non-null  int64  \n",
      " 5   가구원일련번호         20910 non-null  int64  \n",
      " 6   대표가구원여부         20910 non-null  object \n",
      " 7   평토일구분코드         20910 non-null  object \n",
      " 8   성별코드            20910 non-null  object \n",
      " 9   연령              20910 non-null  int64  \n",
      " 10  연령코드            20910 non-null  object \n",
      " 11  etc_daily       20910 non-null  int64  \n",
      " 12  home_daily      20910 non-null  int64  \n",
      " 13  work_daily      20910 non-null  int64  \n",
      " 14  school_daily    20910 non-null  int64  \n",
      " 15  home_weekend    20910 non-null  int64  \n",
      " 16  other_sn        20910 non-null  object \n",
      " 17  home_sn         20910 non-null  object \n",
      " 18  bodyweight      20910 non-null  float64\n",
      " 19  dust_ingestion  20910 non-null  int64  \n",
      " 20  inhalaion_rate  20910 non-null  float64\n",
      "dtypes: float64(2), int64(10), object(9)\n",
      "memory usage: 3.4+ MB\n"
     ]
    }
   ],
   "source": [
    "data['dust_ingestion'] = data['연령'].apply(lambda x: 30 if x <= 11 else 20) # 12세 미만은 먼지섭취량 30, 성인은 20\n",
    "data['inhalaion_rate'] = data['연령'].apply(lambda x: 12.73 if x <= 18 else 14.61) # 18세 이하는 12.72, 성인은 14.61 m3/day\n",
    "\n",
    "\n",
    "data.info()\n",
    "#data.to_csv('NF_scenario_new.csv')"
   ]
  },
  {
   "cell_type": "code",
   "execution_count": null,
   "metadata": {},
   "outputs": [],
   "source": []
  }
 ],
 "metadata": {
  "kernelspec": {
   "display_name": "Python 3.9.12 ('juh_Park')",
   "language": "python",
   "name": "python3"
  },
  "language_info": {
   "codemirror_mode": {
    "name": "ipython",
    "version": 3
   },
   "file_extension": ".py",
   "mimetype": "text/x-python",
   "name": "python",
   "nbconvert_exporter": "python",
   "pygments_lexer": "ipython3",
   "version": "3.9.12"
  },
  "orig_nbformat": 4,
  "vscode": {
   "interpreter": {
    "hash": "b5b623dff2cf6bf0cc2ad369b0fd1974a875d573b47117581306397f69f5b325"
   }
  }
 },
 "nbformat": 4,
 "nbformat_minor": 2
}
